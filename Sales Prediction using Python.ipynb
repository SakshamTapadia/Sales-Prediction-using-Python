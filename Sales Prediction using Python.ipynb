{
 "cells": [
  {
   "cell_type": "markdown",
   "id": "6d8bc92a",
   "metadata": {},
   "source": [
    "# CODSOFT INTERNSHIP TASK 4"
   ]
  },
  {
   "cell_type": "markdown",
   "id": "2b683320",
   "metadata": {},
   "source": [
    "# TASK 4 : SALES PREDICTION USING PYTHON"
   ]
  },
  {
   "cell_type": "markdown",
   "id": "a0c54336",
   "metadata": {},
   "source": [
    "Import the Necessary Libraries"
   ]
  },
  {
   "cell_type": "code",
   "execution_count": 30,
   "id": "30e163de",
   "metadata": {},
   "outputs": [],
   "source": [
    "import numpy as np\n",
    "import pandas as pd\n",
    "import matplotlib.pyplot as plt\n",
    "import seaborn as sns\n",
    "from sklearn.model_selection import train_test_split\n",
    "from sklearn.linear_model import LinearRegression"
   ]
  },
  {
   "cell_type": "markdown",
   "id": "eae3921f",
   "metadata": {},
   "source": [
    "Loading the Dataset "
   ]
  },
  {
   "cell_type": "code",
   "execution_count": 31,
   "id": "498ee12d",
   "metadata": {},
   "outputs": [
    {
     "data": {
      "text/html": [
       "<div>\n",
       "<style scoped>\n",
       "    .dataframe tbody tr th:only-of-type {\n",
       "        vertical-align: middle;\n",
       "    }\n",
       "\n",
       "    .dataframe tbody tr th {\n",
       "        vertical-align: top;\n",
       "    }\n",
       "\n",
       "    .dataframe thead th {\n",
       "        text-align: right;\n",
       "    }\n",
       "</style>\n",
       "<table border=\"1\" class=\"dataframe\">\n",
       "  <thead>\n",
       "    <tr style=\"text-align: right;\">\n",
       "      <th></th>\n",
       "      <th>TV</th>\n",
       "      <th>Radio</th>\n",
       "      <th>Newspaper</th>\n",
       "      <th>Sales</th>\n",
       "    </tr>\n",
       "  </thead>\n",
       "  <tbody>\n",
       "    <tr>\n",
       "      <th>0</th>\n",
       "      <td>230.1</td>\n",
       "      <td>37.8</td>\n",
       "      <td>69.2</td>\n",
       "      <td>22.1</td>\n",
       "    </tr>\n",
       "    <tr>\n",
       "      <th>1</th>\n",
       "      <td>44.5</td>\n",
       "      <td>39.3</td>\n",
       "      <td>45.1</td>\n",
       "      <td>10.4</td>\n",
       "    </tr>\n",
       "    <tr>\n",
       "      <th>2</th>\n",
       "      <td>17.2</td>\n",
       "      <td>45.9</td>\n",
       "      <td>69.3</td>\n",
       "      <td>12.0</td>\n",
       "    </tr>\n",
       "    <tr>\n",
       "      <th>3</th>\n",
       "      <td>151.5</td>\n",
       "      <td>41.3</td>\n",
       "      <td>58.5</td>\n",
       "      <td>16.5</td>\n",
       "    </tr>\n",
       "    <tr>\n",
       "      <th>4</th>\n",
       "      <td>180.8</td>\n",
       "      <td>10.8</td>\n",
       "      <td>58.4</td>\n",
       "      <td>17.9</td>\n",
       "    </tr>\n",
       "  </tbody>\n",
       "</table>\n",
       "</div>"
      ],
      "text/plain": [
       "      TV  Radio  Newspaper  Sales\n",
       "0  230.1   37.8       69.2   22.1\n",
       "1   44.5   39.3       45.1   10.4\n",
       "2   17.2   45.9       69.3   12.0\n",
       "3  151.5   41.3       58.5   16.5\n",
       "4  180.8   10.8       58.4   17.9"
      ]
     },
     "execution_count": 31,
     "metadata": {},
     "output_type": "execute_result"
    }
   ],
   "source": [
    "data = pd.read_csv('Datasets/Task4DataSet.csv')\n",
    "data.head()"
   ]
  },
  {
   "cell_type": "markdown",
   "id": "e6bfe3eb",
   "metadata": {},
   "source": [
    "Number of Rows and Column in Dataset"
   ]
  },
  {
   "cell_type": "code",
   "execution_count": 32,
   "id": "9cbca34e",
   "metadata": {},
   "outputs": [
    {
     "data": {
      "text/plain": [
       "(200, 4)"
      ]
     },
     "execution_count": 32,
     "metadata": {},
     "output_type": "execute_result"
    }
   ],
   "source": [
    "data.shape"
   ]
  },
  {
   "cell_type": "markdown",
   "id": "2b39dbb4",
   "metadata": {},
   "source": [
    "Statistical Description of Data"
   ]
  },
  {
   "cell_type": "code",
   "execution_count": 33,
   "id": "f794e8ee",
   "metadata": {},
   "outputs": [
    {
     "data": {
      "text/html": [
       "<div>\n",
       "<style scoped>\n",
       "    .dataframe tbody tr th:only-of-type {\n",
       "        vertical-align: middle;\n",
       "    }\n",
       "\n",
       "    .dataframe tbody tr th {\n",
       "        vertical-align: top;\n",
       "    }\n",
       "\n",
       "    .dataframe thead th {\n",
       "        text-align: right;\n",
       "    }\n",
       "</style>\n",
       "<table border=\"1\" class=\"dataframe\">\n",
       "  <thead>\n",
       "    <tr style=\"text-align: right;\">\n",
       "      <th></th>\n",
       "      <th>TV</th>\n",
       "      <th>Radio</th>\n",
       "      <th>Newspaper</th>\n",
       "      <th>Sales</th>\n",
       "    </tr>\n",
       "  </thead>\n",
       "  <tbody>\n",
       "    <tr>\n",
       "      <th>count</th>\n",
       "      <td>200.000000</td>\n",
       "      <td>200.000000</td>\n",
       "      <td>200.000000</td>\n",
       "      <td>200.000000</td>\n",
       "    </tr>\n",
       "    <tr>\n",
       "      <th>mean</th>\n",
       "      <td>147.042500</td>\n",
       "      <td>23.264000</td>\n",
       "      <td>30.554000</td>\n",
       "      <td>15.130500</td>\n",
       "    </tr>\n",
       "    <tr>\n",
       "      <th>std</th>\n",
       "      <td>85.854236</td>\n",
       "      <td>14.846809</td>\n",
       "      <td>21.778621</td>\n",
       "      <td>5.283892</td>\n",
       "    </tr>\n",
       "    <tr>\n",
       "      <th>min</th>\n",
       "      <td>0.700000</td>\n",
       "      <td>0.000000</td>\n",
       "      <td>0.300000</td>\n",
       "      <td>1.600000</td>\n",
       "    </tr>\n",
       "    <tr>\n",
       "      <th>25%</th>\n",
       "      <td>74.375000</td>\n",
       "      <td>9.975000</td>\n",
       "      <td>12.750000</td>\n",
       "      <td>11.000000</td>\n",
       "    </tr>\n",
       "    <tr>\n",
       "      <th>50%</th>\n",
       "      <td>149.750000</td>\n",
       "      <td>22.900000</td>\n",
       "      <td>25.750000</td>\n",
       "      <td>16.000000</td>\n",
       "    </tr>\n",
       "    <tr>\n",
       "      <th>75%</th>\n",
       "      <td>218.825000</td>\n",
       "      <td>36.525000</td>\n",
       "      <td>45.100000</td>\n",
       "      <td>19.050000</td>\n",
       "    </tr>\n",
       "    <tr>\n",
       "      <th>max</th>\n",
       "      <td>296.400000</td>\n",
       "      <td>49.600000</td>\n",
       "      <td>114.000000</td>\n",
       "      <td>27.000000</td>\n",
       "    </tr>\n",
       "  </tbody>\n",
       "</table>\n",
       "</div>"
      ],
      "text/plain": [
       "               TV       Radio   Newspaper       Sales\n",
       "count  200.000000  200.000000  200.000000  200.000000\n",
       "mean   147.042500   23.264000   30.554000   15.130500\n",
       "std     85.854236   14.846809   21.778621    5.283892\n",
       "min      0.700000    0.000000    0.300000    1.600000\n",
       "25%     74.375000    9.975000   12.750000   11.000000\n",
       "50%    149.750000   22.900000   25.750000   16.000000\n",
       "75%    218.825000   36.525000   45.100000   19.050000\n",
       "max    296.400000   49.600000  114.000000   27.000000"
      ]
     },
     "execution_count": 33,
     "metadata": {},
     "output_type": "execute_result"
    }
   ],
   "source": [
    "data.describe()"
   ]
  },
  {
   "cell_type": "markdown",
   "id": "b6188219",
   "metadata": {},
   "source": [
    "Doing Exploratory Data Analysis and Plotting Graphs"
   ]
  },
  {
   "cell_type": "markdown",
   "id": "2d245068",
   "metadata": {},
   "source": [
    "Pair plot for all 3 means of advertisement wrt Sales"
   ]
  },
  {
   "cell_type": "code",
   "execution_count": 34,
   "id": "17d953ec",
   "metadata": {},
   "outputs": [
    {
     "data": {
      "image/png": "[encoded data removed]",
      "text/plain": [
       "<Figure size 750x250 with 3 Axes>"
      ]
     },
     "metadata": {},
     "output_type": "display_data"
    }
   ],
   "source": [
    "sns.pairplot(data, x_vars=['TV','Radio','Newspaper'], y_vars='Sales' , kind = 'scatter')\n",
    "plt.show()"
   ]
  },
  {
   "cell_type": "markdown",
   "id": "090e1f7e",
   "metadata": {},
   "source": [
    "From here it can be concluded that on TV advertisement expenditure is directly proportinal to sales and in other two its quite scattered"
   ]
  },
  {
   "cell_type": "markdown",
   "id": "cc8f99af",
   "metadata": {},
   "source": [
    "Plotting Histogram for differnt Advertisement types expenditure"
   ]
  },
  {
   "cell_type": "code",
   "execution_count": 35,
   "id": "dc22a1b7",
   "metadata": {},
   "outputs": [
    {
     "data": {
      "image/png": "[encoded data removed]",
      "text/plain": [
       "<Figure size 640x480 with 1 Axes>"
      ]
     },
     "metadata": {},
     "output_type": "display_data"
    },
    {
     "data": {
      "image/png": "[encoded data removed]",
      "text/plain": [
       "<Figure size 640x480 with 1 Axes>"
      ]
     },
     "metadata": {},
     "output_type": "display_data"
    },
    {
     "data": {
      "image/png": "[encoded data removed]",
      "text/plain": [
       "<Figure size 640x480 with 1 Axes>"
      ]
     },
     "metadata": {},
     "output_type": "display_data"
    }
   ],
   "source": [
    "data['TV'].plot.hist(bins=10)\n",
    "plt.show()\n",
    "data['Radio'].plot.hist(bins=10)\n",
    "plt.show()\n",
    "data['Newspaper'].plot.hist(bins=10)\n",
    "plt.show()"
   ]
  },
  {
   "cell_type": "markdown",
   "id": "896d6d55",
   "metadata": {},
   "source": [
    "Conclusion is that sales are highly related with TV\n"
   ]
  },
  {
   "cell_type": "markdown",
   "id": "3aa2253c",
   "metadata": {},
   "source": [
    "Training the Model"
   ]
  },
  {
   "cell_type": "code",
   "execution_count": 69,
   "id": "e054e01c",
   "metadata": {},
   "outputs": [],
   "source": [
    "a=data['TV']\n",
    "b=data['Sales']\n",
    "\n",
    "x_train , x_test , y_train , y_test = train_test_split(a, b,test_size=0.3 , random_state=0)"
   ]
  },
  {
   "cell_type": "markdown",
   "id": "07a0db51",
   "metadata": {},
   "source": [
    "Converting 1-d array into 2-d array "
   ]
  },
  {
   "cell_type": "code",
   "execution_count": 70,
   "id": "01b52b9b",
   "metadata": {},
   "outputs": [],
   "source": [
    "x_train = np.array(x_train).reshape(-1,1)\n",
    "x_test = np.array(x_test).reshape(-1,1)\n",
    "y_train = np.array(y_train).reshape(-1,1)\n",
    "y_test = np.array(x_test).reshape(-1,1)"
   ]
  },
  {
   "cell_type": "code",
   "execution_count": 71,
   "id": "0d759194",
   "metadata": {},
   "outputs": [
    {
     "data": {
      "text/plain": [
       "array([[17.7],\n",
       "       [16.7],\n",
       "       [17.2],\n",
       "       [14.6],\n",
       "       [16. ],\n",
       "       [19.4],\n",
       "       [20.2],\n",
       "       [18. ],\n",
       "       [10.7],\n",
       "       [12. ],\n",
       "       [20.7],\n",
       "       [14. ],\n",
       "       [20.8],\n",
       "       [23.8],\n",
       "       [12.3],\n",
       "       [16.7],\n",
       "       [19.8],\n",
       "       [19. ],\n",
       "       [20.9],\n",
       "       [19.2],\n",
       "       [17.3],\n",
       "       [10.6],\n",
       "       [ 9.6],\n",
       "       [ 7.6],\n",
       "       [ 5.3],\n",
       "       [20.7],\n",
       "       [12. ],\n",
       "       [18.4],\n",
       "       [ 9.5],\n",
       "       [14.8],\n",
       "       [17.9],\n",
       "       [12.6],\n",
       "       [17.3],\n",
       "       [11. ],\n",
       "       [14. ],\n",
       "       [16.8],\n",
       "       [27. ],\n",
       "       [ 6.6],\n",
       "       [22.2],\n",
       "       [17.1],\n",
       "       [ 7.3],\n",
       "       [11.9],\n",
       "       [16.4],\n",
       "       [22.1],\n",
       "       [11.5],\n",
       "       [18.4],\n",
       "       [16.9],\n",
       "       [16. ],\n",
       "       [17.2],\n",
       "       [17.1],\n",
       "       [22.3],\n",
       "       [ 9.7],\n",
       "       [19.8],\n",
       "       [20.2],\n",
       "       [13.7],\n",
       "       [13.3],\n",
       "       [20.5],\n",
       "       [10.3],\n",
       "       [11.6],\n",
       "       [18. ],\n",
       "       [22.4],\n",
       "       [ 5.3],\n",
       "       [20.7],\n",
       "       [22.6],\n",
       "       [16.7],\n",
       "       [ 6.9],\n",
       "       [16.5],\n",
       "       [12.2],\n",
       "       [11.9],\n",
       "       [25.5],\n",
       "       [11.8],\n",
       "       [18.9],\n",
       "       [21.7],\n",
       "       [ 7. ],\n",
       "       [ 3.2],\n",
       "       [17.5],\n",
       "       [15.3],\n",
       "       [ 7.3],\n",
       "       [18.4],\n",
       "       [17.4],\n",
       "       [ 6.6],\n",
       "       [19.8],\n",
       "       [17.8],\n",
       "       [13.2],\n",
       "       [11.3],\n",
       "       [10.4],\n",
       "       [15.5],\n",
       "       [19.9],\n",
       "       [20.7],\n",
       "       [15. ],\n",
       "       [ 5.7],\n",
       "       [16.7],\n",
       "       [24.4],\n",
       "       [10.1],\n",
       "       [19.6],\n",
       "       [21.2],\n",
       "       [10.1],\n",
       "       [24.7],\n",
       "       [11.9],\n",
       "       [18.9],\n",
       "       [14.6],\n",
       "       [11.6],\n",
       "       [11.9],\n",
       "       [ 8. ],\n",
       "       [11.9],\n",
       "       [20.2],\n",
       "       [13.2],\n",
       "       [20.1],\n",
       "       [20. ],\n",
       "       [25.4],\n",
       "       [10.5],\n",
       "       [17.2],\n",
       "       [11.3],\n",
       "       [11. ],\n",
       "       [12.6],\n",
       "       [10.9],\n",
       "       [19.6],\n",
       "       [ 8.8],\n",
       "       [14.2],\n",
       "       [17. ],\n",
       "       [16.9],\n",
       "       [17.3],\n",
       "       [20.9],\n",
       "       [16.5],\n",
       "       [10.8],\n",
       "       [21.5],\n",
       "       [23.8],\n",
       "       [10.9],\n",
       "       [12.9],\n",
       "       [18.3],\n",
       "       [16. ],\n",
       "       [25.4],\n",
       "       [17.5],\n",
       "       [15.6],\n",
       "       [19.7],\n",
       "       [13.4],\n",
       "       [ 5.9],\n",
       "       [ 9.4],\n",
       "       [23.2],\n",
       "       [ 7.6]])"
      ]
     },
     "execution_count": 71,
     "metadata": {},
     "output_type": "execute_result"
    }
   ],
   "source": [
    "y_train"
   ]
  },
  {
   "cell_type": "code",
   "execution_count": 72,
   "id": "4d16f25c",
   "metadata": {},
   "outputs": [
    {
     "data": {
      "text/plain": [
       "LinearRegression()"
      ]
     },
     "execution_count": 72,
     "metadata": {},
     "output_type": "execute_result"
    }
   ],
   "source": [
    "model = LinearRegression()\n",
    "model.fit(x_train , y_train)"
   ]
  },
  {
   "cell_type": "code",
   "execution_count": 73,
   "id": "a240843f",
   "metadata": {},
   "outputs": [
    {
     "data": {
      "text/plain": [
       "array([[10.93127621],\n",
       "       [ 9.88042193],\n",
       "       [12.09159447],\n",
       "       [22.99968079],\n",
       "       [16.45920756],\n",
       "       [10.21976029],\n",
       "       [ 7.6199906 ],\n",
       "       [20.28497391],\n",
       "       [ 8.4464437 ],\n",
       "       [17.95886418],\n",
       "       [21.44529217],\n",
       "       [11.91645209],\n",
       "       [15.71485245],\n",
       "       [17.42249065],\n",
       "       [11.32534656],\n",
       "       [13.72260788],\n",
       "       [21.68063975],\n",
       "       [ 7.18213465],\n",
       "       [11.23230217],\n",
       "       [18.82362968],\n",
       "       [22.88474361],\n",
       "       [14.82272095],\n",
       "       [16.72739433],\n",
       "       [14.35202581],\n",
       "       [10.07198391],\n",
       "       [13.88133066],\n",
       "       [16.20744039],\n",
       "       [18.36388094],\n",
       "       [19.40378881],\n",
       "       [ 8.51759529],\n",
       "       [10.85465142],\n",
       "       [18.03001578],\n",
       "       [22.50709285],\n",
       "       [20.3725451 ],\n",
       "       [ 7.86628457],\n",
       "       [ 8.16731053],\n",
       "       [10.40584907],\n",
       "       [17.03936669],\n",
       "       [10.88749061],\n",
       "       [ 8.51212209],\n",
       "       [ 9.16343282],\n",
       "       [ 8.86788005],\n",
       "       [14.96502414],\n",
       "       [18.61564811],\n",
       "       [18.93309367],\n",
       "       [12.76479799],\n",
       "       [ 7.6145174 ],\n",
       "       [ 8.06879294],\n",
       "       [14.02363385],\n",
       "       [12.86878878],\n",
       "       [13.15339515],\n",
       "       [19.70481478],\n",
       "       [21.03480222],\n",
       "       [17.26376787],\n",
       "       [ 9.59034237],\n",
       "       [10.55362545],\n",
       "       [23.17482317],\n",
       "       [16.58509115],\n",
       "       [18.22705095],\n",
       "       [ 7.54336581]])"
      ]
     },
     "execution_count": 73,
     "metadata": {},
     "output_type": "execute_result"
    }
   ],
   "source": [
    "result = model.predict(x_test)\n",
    "result"
   ]
  },
  {
   "cell_type": "code",
   "execution_count": 74,
   "id": "f64f606e",
   "metadata": {},
   "outputs": [
    {
     "data": {
      "text/plain": [
       "0.8059411537112771"
      ]
     },
     "execution_count": 74,
     "metadata": {},
     "output_type": "execute_result"
    }
   ],
   "source": [
    "model.score(x_train,y_train)"
   ]
  },
  {
   "cell_type": "code",
   "execution_count": 81,
   "id": "099c7a79",
   "metadata": {},
   "outputs": [
    {
     "data": {
      "text/plain": [
       "array([7.14382225])"
      ]
     },
     "execution_count": 81,
     "metadata": {},
     "output_type": "execute_result"
    }
   ],
   "source": [
    "model.intercept_"
   ]
  },
  {
   "cell_type": "markdown",
   "id": "992ad354",
   "metadata": {},
   "source": [
    "Model is trained well and has a good Accuracy score"
   ]
  }
 ],
 "metadata": {
  "kernelspec": {
   "display_name": "Python 3 (ipykernel)",
   "language": "python",
   "name": "python3"
  },
  "language_info": {
   "codemirror_mode": {
    "name": "ipython",
    "version": 3
   },
   "file_extension": ".py",
   "mimetype": "text/x-python",
   "name": "python",
   "nbconvert_exporter": "python",
   "pygments_lexer": "ipython3",
   "version": "3.9.13"
  }
 },
 "nbformat": 4,
 "nbformat_minor": 5
}
